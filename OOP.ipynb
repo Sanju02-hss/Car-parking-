{
  "cells": [
    {
      "cell_type": "markdown",
      "metadata": {
        "id": "view-in-github",
        "colab_type": "text"
      },
      "source": [
        "<a href=\"https://colab.research.google.com/github/aminramezani345/codespaces-blank/blob/main/OOP.ipynb\" target=\"_parent\"><img src=\"https://colab.research.google.com/assets/colab-badge.svg\" alt=\"Open In Colab\"/></a>"
      ]
    },
    {
      "cell_type": "code",
      "execution_count": 11,
      "metadata": {
        "collapsed": true,
        "id": "gXZBMqSVn2Nq"
      },
      "outputs": [],
      "source": [
        "class person():\n",
        "    def __init__(self,esm):\n",
        "        self.name=esm\n",
        "    def sayhi(self):\n",
        "        print(\"Hello! my name is \"+self.name)"
      ]
    },
    {
      "cell_type": "code",
      "execution_count": 8,
      "metadata": {
        "id": "mAgGUQHpn2Nw",
        "outputId": "3a372b7d-25d8-4435-a25b-beb0c8e14502",
        "colab": {
          "base_uri": "https://localhost:8080/"
        }
      },
      "outputs": [
        {
          "output_type": "execute_result",
          "data": {
            "text/plain": [
              "__main__.person"
            ]
          },
          "metadata": {},
          "execution_count": 8
        }
      ],
      "source": [
        "person1=person(\"Ehsan\")\n",
        "type(person1)"
      ]
    },
    {
      "cell_type": "code",
      "execution_count": 3,
      "metadata": {
        "id": "RzByIHJ2n2Nz",
        "outputId": "05325ca1-d40d-4a16-8a5e-252bd1d202bc",
        "colab": {
          "base_uri": "https://localhost:8080/"
        }
      },
      "outputs": [
        {
          "output_type": "stream",
          "name": "stdout",
          "text": [
            "Hello! my name is Ehsan\n"
          ]
        }
      ],
      "source": [
        "person1.sayhi()"
      ]
    },
    {
      "cell_type": "markdown",
      "metadata": {
        "id": "69JwYH0Wn2N1"
      },
      "source": [
        "### inheritance"
      ]
    },
    {
      "cell_type": "code",
      "execution_count": 4,
      "metadata": {
        "collapsed": true,
        "id": "KygLhvx9n2N5"
      },
      "outputs": [],
      "source": [
        "class employee(person):\n",
        "    def work(self,hours):\n",
        "        print(self.name + \" worked \"+ hours+\" hours\")"
      ]
    },
    {
      "cell_type": "code",
      "execution_count": 5,
      "metadata": {
        "id": "GCNITp7cn2N6",
        "outputId": "a90477b3-f802-46b7-8eaf-acf84930b675",
        "colab": {
          "base_uri": "https://localhost:8080/"
        }
      },
      "outputs": [
        {
          "output_type": "stream",
          "name": "stdout",
          "text": [
            "Ali worked 5 hours\n"
          ]
        }
      ],
      "source": [
        "employee1=employee(\"Ali\")\n",
        "employee1.work(\"5\")"
      ]
    },
    {
      "cell_type": "code",
      "execution_count": 6,
      "metadata": {
        "id": "HBj0u7s5n2N7",
        "outputId": "571593fd-8749-4682-e15d-16bd7a25d4fe",
        "colab": {
          "base_uri": "https://localhost:8080/"
        }
      },
      "outputs": [
        {
          "output_type": "stream",
          "name": "stdout",
          "text": [
            "Hello! my name is Ali\n"
          ]
        }
      ],
      "source": [
        "employee1.sayhi()"
      ]
    }
  ],
  "metadata": {
    "kernelspec": {
      "display_name": "Python 3",
      "language": "python",
      "name": "python3"
    },
    "language_info": {
      "codemirror_mode": {
        "name": "ipython",
        "version": 3
      },
      "file_extension": ".py",
      "mimetype": "text/x-python",
      "name": "python",
      "nbconvert_exporter": "python",
      "pygments_lexer": "ipython3",
      "version": "3.6.0"
    },
    "colab": {
      "provenance": [],
      "include_colab_link": true
    }
  },
  "nbformat": 4,
  "nbformat_minor": 0
}