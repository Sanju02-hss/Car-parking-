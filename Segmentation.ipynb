{
  "cells": [
    {
      "cell_type": "markdown",
      "metadata": {
        "id": "view-in-github",
        "colab_type": "text"
      },
      "source": [
        "<a href=\"https://colab.research.google.com/github/aminramezani345/codespaces-blank/blob/main/Segmentation.ipynb\" target=\"_parent\"><img src=\"https://colab.research.google.com/assets/colab-badge.svg\" alt=\"Open In Colab\"/></a>"
      ]
    },
    {
      "cell_type": "markdown",
      "metadata": {
        "id": "p09VUgPeM7zf"
      },
      "source": [
        "## check NLTK"
      ]
    },
    {
      "cell_type": "code",
      "execution_count": null,
      "metadata": {
        "id": "xe6jEPTwM7zk",
        "outputId": "1761c1dc-89e8-4598-d57e-5596773844f9"
      },
      "outputs": [
        {
          "name": "stdout",
          "output_type": "stream",
          "text": [
            "3.7\n"
          ]
        }
      ],
      "source": [
        "import nltk\n",
        "print(nltk.__version__)"
      ]
    },
    {
      "cell_type": "markdown",
      "metadata": {
        "id": "R5GAJR2hM7zn"
      },
      "source": [
        "## install PUNKT"
      ]
    },
    {
      "cell_type": "code",
      "execution_count": null,
      "metadata": {
        "id": "nHBLchjBM7zn",
        "outputId": "5776ba4b-f410-46c5-cd90-14698452f211"
      },
      "outputs": [
        {
          "name": "stderr",
          "output_type": "stream",
          "text": [
            "[nltk_data] Downloading package punkt to\n",
            "[nltk_data]     C:\\Users\\Amin\\AppData\\Roaming\\nltk_data...\n",
            "[nltk_data]   Package punkt is already up-to-date!\n"
          ]
        },
        {
          "data": {
            "text/plain": [
              "True"
            ]
          },
          "execution_count": 2,
          "metadata": {},
          "output_type": "execute_result"
        }
      ],
      "source": [
        "import nltk\n",
        "nltk.download(\"punkt\")"
      ]
    },
    {
      "cell_type": "markdown",
      "metadata": {
        "id": "LQtJ_u4lM7zo"
      },
      "source": [
        "## Sentence Tokenizer"
      ]
    },
    {
      "cell_type": "code",
      "execution_count": null,
      "metadata": {
        "id": "Zex1C4-8M7zp",
        "outputId": "2c9180b9-a7f0-4454-c35a-3794f8eeac82"
      },
      "outputs": [
        {
          "data": {
            "text/plain": [
              "['Hello!', 'My name is Amin.', 'How are you doing today?']"
            ]
          },
          "execution_count": 3,
          "metadata": {},
          "output_type": "execute_result"
        }
      ],
      "source": [
        "from nltk.tokenize import sent_tokenize\n",
        "text=\"Hello! My name is Ehsan. How are you doing today?\"\n",
        "sent_tokenize(text)"
      ]
    },
    {
      "cell_type": "code",
      "execution_count": null,
      "metadata": {
        "id": "hyozWmjRM7zp",
        "outputId": "57b9421e-9b81-4fd8-d1af-69cdd940df2f"
      },
      "outputs": [
        {
          "data": {
            "text/plain": [
              "['سلام!', 'اسم من احسان است.', 'حالتان چطور است ؟']"
            ]
          },
          "execution_count": 4,
          "metadata": {},
          "output_type": "execute_result"
        }
      ],
      "source": [
        "matn=\"سلام! اسم من احسان است. حالتان چطور است ؟\"\n",
        "sent_tokenize(matn)"
      ]
    },
    {
      "cell_type": "markdown",
      "metadata": {
        "id": "J7WDPw4wM7z4"
      },
      "source": [
        "## How to open text"
      ]
    },
    {
      "cell_type": "code",
      "execution_count": null,
      "metadata": {
        "id": "67sMFvH2M7z4",
        "outputId": "78492da7-bbfe-42ed-b792-ed2a8c190de8"
      },
      "outputs": [
        {
          "ename": "FileNotFoundError",
          "evalue": "[Errno 2] No such file or directory: 'C:\\\\Users\\\\FaraDars\\\\Desktop\\\\turkish.txt'",
          "output_type": "error",
          "traceback": [
            "\u001b[1;31m---------------------------------------------------------------------------\u001b[0m",
            "\u001b[1;31mFileNotFoundError\u001b[0m                         Traceback (most recent call last)",
            "\u001b[1;32m~\\AppData\\Local\\Temp\\ipykernel_8380\\998521483.py\u001b[0m in \u001b[0;36m<module>\u001b[1;34m\u001b[0m\n\u001b[1;32m----> 1\u001b[1;33m \u001b[0mfile\u001b[0m \u001b[1;33m=\u001b[0m \u001b[0mopen\u001b[0m\u001b[1;33m(\u001b[0m\u001b[1;34m\"C:\\\\Users\\\\FaraDars\\\\Desktop\\\\turkish.txt\"\u001b[0m\u001b[1;33m,\u001b[0m\u001b[0mencoding\u001b[0m\u001b[1;33m=\u001b[0m\u001b[1;34m\"UTF-8\"\u001b[0m\u001b[1;33m)\u001b[0m\u001b[1;33m\u001b[0m\u001b[1;33m\u001b[0m\u001b[0m\n\u001b[0m\u001b[0;32m      2\u001b[0m \u001b[0mtext\u001b[0m\u001b[1;33m=\u001b[0m\u001b[0mfile\u001b[0m\u001b[1;33m.\u001b[0m\u001b[0mread\u001b[0m\u001b[1;33m(\u001b[0m\u001b[1;33m)\u001b[0m\u001b[1;33m\u001b[0m\u001b[1;33m\u001b[0m\u001b[0m\n\u001b[0;32m      3\u001b[0m \u001b[0mprint\u001b[0m\u001b[1;33m(\u001b[0m\u001b[0mtext\u001b[0m\u001b[1;33m)\u001b[0m\u001b[1;33m\u001b[0m\u001b[1;33m\u001b[0m\u001b[0m\n",
            "\u001b[1;31mFileNotFoundError\u001b[0m: [Errno 2] No such file or directory: 'C:\\\\Users\\\\FaraDars\\\\Desktop\\\\turkish.txt'"
          ]
        }
      ],
      "source": [
        "file = open(\"C:\\\\Users\\\\FaraDars\\\\Desktop\\\\turkish.txt\",encoding=\"UTF-8\")\n",
        "text=file.read()\n",
        "print(text)"
      ]
    },
    {
      "cell_type": "markdown",
      "metadata": {
        "id": "ZRNY5BHPM7z5"
      },
      "source": [
        "## turkish sentence tokenizer"
      ]
    },
    {
      "cell_type": "code",
      "execution_count": null,
      "metadata": {
        "id": "iY1VXvqaM7z5"
      },
      "outputs": [],
      "source": [
        "import nltk.data\n",
        "tokenizer=nltk.data.load(\"tokenizers/punkt/turkish.pickle\")\n",
        "tokenizer.tokenize(text)"
      ]
    },
    {
      "cell_type": "code",
      "execution_count": null,
      "metadata": {
        "id": "Ce0wfj4dM7z5"
      },
      "outputs": [],
      "source": [
        "len(tokenizer.tokenize(text))"
      ]
    }
  ],
  "metadata": {
    "kernelspec": {
      "display_name": "Python 3 (ipykernel)",
      "language": "python",
      "name": "python3"
    },
    "language_info": {
      "codemirror_mode": {
        "name": "ipython",
        "version": 3
      },
      "file_extension": ".py",
      "mimetype": "text/x-python",
      "name": "python",
      "nbconvert_exporter": "python",
      "pygments_lexer": "ipython3",
      "version": "3.9.13"
    },
    "colab": {
      "provenance": [],
      "include_colab_link": true
    }
  },
  "nbformat": 4,
  "nbformat_minor": 0
}
